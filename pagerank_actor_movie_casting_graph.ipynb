{
 "cells": [
  {
   "cell_type": "code",
   "execution_count": 1,
   "metadata": {},
   "outputs": [
    {
     "name": "stdout",
     "output_type": "stream",
     "text": [
      "id\tk_name\te_name\n",
      "1\t알리야\tAaliyah\n",
      "2\t압바스 키아로스타미\tAbbas Kiarostami\n",
      "3\t아벨 페라라\tAbel Ferrara\n",
      "4\t아담 아킨\tAdam Arkin\n"
     ]
    }
   ],
   "source": [
    "with open('data/movie-actor/actors.csv', encoding='utf-8') as f:\n",
    "    for _ in range(5):\n",
    "        print(next(f).strip())"
   ]
  },
  {
   "cell_type": "code",
   "execution_count": 2,
   "metadata": {},
   "outputs": [
    {
     "name": "stdout",
     "output_type": "stream",
     "text": [
      "movie_id\ttitle\te_title\tgrade\tyear\tcountries\n",
      "10001\t시네마 천국\tCinema Paradiso, 1988\t전체 관람가\t1990\t프랑스 이탈리아\n",
      "10002\t빽 투 더 퓨쳐\tBack To The Future, 1985\t12세 관람가\t1987\t미국\n",
      "10003\t빽 투 더 퓨쳐 2\tBack To The Future Part 2, 1989\t12세 관람가\t1990\t미국\n",
      "10004\t빽 투 더 퓨쳐 3\tBack To The Future Part III, 1990\t전체 관람가\t1990\t미국\n"
     ]
    }
   ],
   "source": [
    "with open('data/movie-actor/movies.csv', encoding='utf-8') as f:\n",
    "    for _ in range(5):\n",
    "        print(next(f).strip())"
   ]
  },
  {
   "cell_type": "code",
   "execution_count": 3,
   "metadata": {},
   "outputs": [
    {
     "name": "stdout",
     "output_type": "stream",
     "text": [
      "movie_idx\tactors\n",
      "22682\t7995 4009\n",
      "25882\t154441 12571\n",
      "133650\t312131\n",
      "29394\t6852 96763 3107 7067 39104\n"
     ]
    }
   ],
   "source": [
    "with open('data/movie-actor/casting.txt', encoding='utf-8') as f:\n",
    "    for _ in range(5):\n",
    "        print(next(f).strip())"
   ]
  },
  {
   "cell_type": "code",
   "execution_count": 4,
   "metadata": {},
   "outputs": [
    {
     "name": "stdout",
     "output_type": "stream",
     "text": [
      "[('4374', 0.1711229946524064),\n",
      " ('178', 0.15040106951871657),\n",
      " ('3241', 0.13101604278074866),\n",
      " ('47952', 0.11296791443850267),\n",
      " ('47953', 0.0962566844919786),\n",
      " ('19538', 0.08088235294117647),\n",
      " ('18991', 0.06684491978609626),\n",
      " ('47954', 0.05414438502673797),\n",
      " ('6038', 0.0427807486631016),\n",
      " ('24102', 0.032754010695187165),\n",
      " ('47955', 0.02406417112299465),\n",
      " ('16903', 0.016711229946524065),\n",
      " ('47956', 0.0106951871657754),\n",
      " ('47957', 0.006016042780748663),\n",
      " ('47958', 0.00267379679144385),\n",
      " ('47959', 0.0006684491978609625)]\n"
     ]
    }
   ],
   "source": [
    "# pre defined casting weight graph\n",
    "# see more data/movie-actor/make_casting_graph.py\n",
    "\n",
    "import pickle\n",
    "from pprint import pprint \n",
    "\n",
    "with open('data/movie-actor/casting_graph.pkl', 'rb') as f:\n",
    "    graph = pickle.load(f)\n",
    "\n",
    "# casting weight of movie = 10001\n",
    "pprint(sorted(graph['10001'].items(), key=lambda x:-x[1]))"
   ]
  },
  {
   "cell_type": "code",
   "execution_count": 5,
   "metadata": {},
   "outputs": [],
   "source": [
    "# create idx to actor name function\n",
    "with open('data/movie-actor/actors.csv', encoding='utf-8') as f:\n",
    "    next(f)\n",
    "    docs = [line[:-1].split('\\t') for line in f]\n",
    "    # English name if exist else Korean name\n",
    "    _idx2actor = {doc[0]:(doc[2] if doc[2] else doc[1]) for doc in docs}\n",
    "\n",
    "idx2actor = lambda idx: _idx2actor.get(idx, 'Unknown')"
   ]
  },
  {
   "cell_type": "code",
   "execution_count": 6,
   "metadata": {},
   "outputs": [],
   "source": [
    "# create idx to movie name function\n",
    "def append_year_countries(year, countries):\n",
    "    if year and countries:\n",
    "        return ' ({}, {})'.format(year, countries)\n",
    "    elif year:\n",
    "        return ' ({})'.format(year)\n",
    "    elif countries:\n",
    "        return ' ({})'.format(countries)\n",
    "    return ''\n",
    "\n",
    "with open('data/movie-actor/movies.csv', encoding='utf-8') as f:\n",
    "    next(f)\n",
    "    docs = [line[:-1].split('\\t') for line in f]\n",
    "    _idx2movie = {doc[0]:'{}{}'.format(doc[1], append_year_countries(doc[4], doc[5])) for doc in docs if len(docs)}\n",
    "\n",
    "idx2movie = lambda idx: _idx2movie.get(idx, 'Unknown')"
   ]
  },
  {
   "cell_type": "code",
   "execution_count": 7,
   "metadata": {},
   "outputs": [
    {
     "name": "stdout",
     "output_type": "stream",
     "text": [
      "actor = 5751   , weight = 0.20634920634920634\n",
      "actor = 135256 , weight = 0.17582417582417584\n",
      "actor = 4651   , weight = 0.14774114774114774\n",
      "actor = 97297  , weight = 0.1221001221001221\n",
      "actor = 347222 , weight = 0.0989010989010989\n",
      "actor = 66630  , weight = 0.07814407814407814\n",
      "actor = 7269   , weight = 0.05982905982905983\n",
      "actor = 28674  , weight = 0.04395604395604396\n",
      "actor = 353879 , weight = 0.030525030525030524\n",
      "actor = 19339  , weight = 0.019536019536019536\n",
      "actor = 197878 , weight = 0.01098901098901099\n",
      "actor = 357382 , weight = 0.004884004884004884\n",
      "actor = 1559   , weight = 0.001221001221001221\n"
     ]
    }
   ],
   "source": [
    "for actor, weight in graph['134963'].items():\n",
    "    print('actor = {:7}, weight = {}'.format(actor, weight))"
   ]
  },
  {
   "cell_type": "code",
   "execution_count": 8,
   "metadata": {},
   "outputs": [
    {
     "name": "stdout",
     "output_type": "stream",
     "text": [
      "라라랜드 (2016, 미국)\n",
      "\n",
      "Ryan Gosling : 0.20634920634920634\n",
      "Emma Stone : 0.17582417582417584\n",
      "J.K. Simmons : 0.14774114774114774\n",
      "John Legend : 0.1221001221001221\n",
      "Sonoya Mizuno : 0.0989010989010989\n",
      "Rosemarie DeWitt : 0.07814407814407814\n",
      "Jason Fuchs : 0.05982905982905983\n",
      "Meagen Fay : 0.04395604395604396\n",
      "Jessica Rothe : 0.030525030525030524\n",
      "Miles Anderson : 0.019536019536019536\n",
      "Trevor Lissauer : 0.01098901098901099\n",
      "Callie Hernandez : 0.004884004884004884\n",
      "Tom Everett Scott : 0.001221001221001221\n",
      "\n",
      "5751 = Ryan Gosling\n"
     ]
    }
   ],
   "source": [
    "# test\n",
    "print(idx2movie('134963'), end='\\n\\n')\n",
    "for actor, weight in sorted(graph['134963'].items(), key=lambda x:-x[1]):\n",
    "    print('{} : {}'.format(idx2actor(actor), weight))\n",
    "\n",
    "print('\\n5751 = {}'.format(idx2actor('5751')))"
   ]
  },
  {
   "cell_type": "code",
   "execution_count": 9,
   "metadata": {
    "collapsed": true
   },
   "outputs": [],
   "source": [
    "# bi-directed graph\n",
    "# graph has only one-way link: movie -> actor\n",
    "actor_weight_sum = {}\n",
    "\n",
    "# cumulate actor weights\n",
    "for movie, actors in graph.items():\n",
    "    for actor, weight in actors.items():\n",
    "        actor_weight_sum[actor] = actor_weight_sum.get(actor, 0) + weight\n",
    "\n",
    "# make bi-directed graph\n",
    "from collections import defaultdict\n",
    "g = defaultdict(lambda: {})\n",
    "for movie, actors in graph.items():\n",
    "    g['movie {}'.format(movie)] = {'actor {}'.format(a):w for a,w in actors.items()}\n",
    "    for actor, weight in actors.items():\n",
    "        g['actor {}'.format(actor)]['movie {}'.format(movie)] = weight / actor_weight_sum[actor]\n",
    "\n",
    "g = dict(g)"
   ]
  },
  {
   "cell_type": "code",
   "execution_count": 10,
   "metadata": {},
   "outputs": [
    {
     "data": {
      "text/plain": [
       "{'actor 135256': 0.17582417582417584,\n",
       " 'actor 1559': 0.001221001221001221,\n",
       " 'actor 19339': 0.019536019536019536,\n",
       " 'actor 197878': 0.01098901098901099,\n",
       " 'actor 28674': 0.04395604395604396,\n",
       " 'actor 347222': 0.0989010989010989,\n",
       " 'actor 353879': 0.030525030525030524,\n",
       " 'actor 357382': 0.004884004884004884,\n",
       " 'actor 4651': 0.14774114774114774,\n",
       " 'actor 5751': 0.20634920634920634,\n",
       " 'actor 66630': 0.07814407814407814,\n",
       " 'actor 7269': 0.05982905982905983,\n",
       " 'actor 97297': 0.1221001221001221}"
      ]
     },
     "execution_count": 10,
     "metadata": {},
     "output_type": "execute_result"
    }
   ],
   "source": [
    "g['movie 134963']"
   ]
  },
  {
   "cell_type": "code",
   "execution_count": 11,
   "metadata": {},
   "outputs": [
    {
     "name": "stdout",
     "output_type": "stream",
     "text": [
      "라라랜드 (2016, 미국)\n",
      "하프 넬슨 (2012, 미국)\n",
      "블루 발렌타인 (2012, 미국)\n",
      "갱스터 스쿼드 (미국)\n",
      "드라이브 (2011, 미국)\n",
      "테렌스 맬릭 프로젝트(가제) (미국)\n",
      "블레이드 러너 2049 (미국 캐나다 영국)\n",
      "프랙처 (미국)\n",
      "빅쇼트 (2016, 미국)\n",
      "크레이지, 스투피드, 러브 (미국)\n",
      "로건스 런 (미국)\n",
      "내겐 너무 사랑스러운 그녀 (2008, 미국)\n",
      "더 슬로터 룰 (미국)\n",
      "유나이티드 스테이츠 오브 리랜드 (미국)\n",
      "올 굿 에브리씽 (미국)\n",
      "머더 바이 넘버 (2002, 미국)\n",
      "킹메이커 (2012, 미국)\n",
      "노트북 (2004, 미국)\n",
      "온리 갓 포기브스 (2014, 프랑스 태국 미국 스웨덴 덴마크)\n",
      "플레이스 비욘드 더 파인즈 (2013, 미국)\n",
      "빌리버 (미국)\n",
      "스테이 (2005, 미국)\n",
      "마이 라이프 디렉티드 바이 니콜라스 윈딩 레픈 (덴마크)\n",
      "리제너레이션 (미국)\n",
      "나이스 가이즈 (2016, 미국)\n",
      "플래시 포워드 (미국 캐나다)\n",
      "MMC (미국)\n",
      "프랑켄슈타인과 나 (캐나다)\n"
     ]
    }
   ],
   "source": [
    "for movie in g['actor 5751']:\n",
    "    movie_idx = movie.split()[1]\n",
    "    print(idx2movie(movie_idx))"
   ]
  },
  {
   "cell_type": "code",
   "execution_count": 13,
   "metadata": {},
   "outputs": [
    {
     "name": "stdout",
     "output_type": "stream",
     "text": [
      "Iteration = 1, diff = 0.7663714375352587\n",
      "Iteration = 2, diff = 0.5973778498022786\n",
      "Iteration = 3, diff = 0.4753779904088874\n",
      "Iteration = 4, diff = 0.3876545641819942\n",
      "Iteration = 5, diff = 0.3201995967978161\n",
      "Iteration = 6, diff = 0.26685630373296704\n",
      "Iteration = 7, diff = 0.2236944600745994\n",
      "Iteration = 8, diff = 0.18813011706126767\n",
      "Iteration = 9, diff = 0.15857142935860843\n",
      "Iteration = 10, diff = 0.13385368096602895\n",
      "Iteration = 11, diff = 0.11311713940222842\n",
      "Iteration = 12, diff = 0.09567336023364868\n",
      "Iteration = 13, diff = 0.08097322685291032\n",
      "Iteration = 14, diff = 0.06857008757046942\n",
      "Iteration = 15, diff = 0.05809138788591349\n",
      "Iteration = 16, diff = 0.04923210998635747\n",
      "Iteration = 17, diff = 0.041735647433191095\n",
      "Iteration = 18, diff = 0.035389856617322565\n",
      "Iteration = 19, diff = 0.030015020263829822\n",
      "Iteration = 20, diff = 0.02546128515350866\n",
      "Iteration = 21, diff = 0.021601837840377395\n",
      "Iteration = 22, diff = 0.01833011710695322\n",
      "Iteration = 23, diff = 0.015555814776266413\n",
      "Iteration = 24, diff = 0.01320293991204262\n",
      "Iteration = 25, diff = 0.011207043982012792\n",
      "Iteration = 26, diff = 0.00951373292365403\n",
      "Iteration = 27, diff = 0.00807689915740273\n",
      "Iteration = 28, diff = 0.0068575545818870196\n",
      "Iteration = 29, diff = 0.00582273648576566\n",
      "Iteration = 30, diff = 0.004944344622108788\n",
      "Iteration = 31, diff = 0.004198732491231375\n",
      "Iteration = 32, diff = 0.0035657257361889605\n",
      "Iteration = 33, diff = 0.0030283026004956485\n",
      "Iteration = 34, diff = 0.002572003094352865\n",
      "Iteration = 35, diff = 0.0021845511861825007\n",
      "Iteration = 36, diff = 0.001855536617629887\n",
      "Iteration = 37, diff = 0.001576131847990804\n",
      "Iteration = 38, diff = 0.0013388440102798846\n",
      "Iteration = 39, diff = 0.0011373146343209282\n",
      "Iteration = 40, diff = 0.0009661480544270157\n",
      "Iteration = 41, diff = 0.0008207619952351554\n",
      "Iteration = 42, diff = 0.0006972695348188785\n",
      "Iteration = 43, diff = 0.0005923697125642067\n",
      "Iteration = 44, diff = 0.0005032607858932195\n",
      "Iteration = 45, diff = 0.00042756465664165133\n",
      "Iteration = 46, diff = 0.0003632614546192722\n",
      "Iteration = 47, diff = 0.00030863443461773325\n",
      "Iteration = 48, diff = 0.00026222622483931807\n",
      "Iteration = 49, diff = 0.00022279956176075988\n",
      "Iteration = 50, diff = 0.00018930347604321457\n"
     ]
    }
   ],
   "source": [
    "from pagerank import pagerank\n",
    "\n",
    "rank = pagerank(g,\n",
    "                bias=None,\n",
    "                df=0.15,\n",
    "                max_iter=50,\n",
    "                converge_error=0.0001,\n",
    "                verbose=1)"
   ]
  },
  {
   "cell_type": "code",
   "execution_count": 15,
   "metadata": {
    "collapsed": true
   },
   "outputs": [],
   "source": [
    "movie_rank = {node:rank for node, rank in rank.items() if node[0] == 'm'}\n",
    "actor_rank = {node:rank for node, rank in rank.items() if node[0] == 'a'}"
   ]
  },
  {
   "cell_type": "code",
   "execution_count": 22,
   "metadata": {},
   "outputs": [
    {
     "data": {
      "text/plain": [
       "['movie 94969',\n",
       " 'movie 121413',\n",
       " 'movie 71232',\n",
       " 'movie 11446',\n",
       " 'movie 62007',\n",
       " 'movie 86098',\n",
       " 'movie 10101',\n",
       " 'movie 86022',\n",
       " 'movie 108745',\n",
       " 'movie 108315']"
      ]
     },
     "execution_count": 22,
     "metadata": {},
     "output_type": "execute_result"
    }
   ],
   "source": [
    "list(movie_rank)[:10]"
   ]
  },
  {
   "cell_type": "code",
   "execution_count": 24,
   "metadata": {},
   "outputs": [
    {
     "name": "stdout",
     "output_type": "stream",
     "text": [
      "개그콘서트 (1999, 한국)\n",
      "폭소 클럽 (한국)\n",
      "깡패와 건달로 본 한국 100년 (한국)\n",
      "티라노의 발톱 (1994, 한국)\n",
      "살인의 강 (2010, 한국)\n",
      "신세대 보고서 어른들은 몰라요 (한국)\n",
      "박하사탕 (2000, 한국)\n",
      "기담전설 2 - 소름 (2009, 한국)\n",
      "나와 함께 블루스를 (한국)\n",
      "시간의 춤 (2009, 한국)\n",
      "우리 학교 (2007, 한국)\n",
      "그 사람 추기경 (2014, 한국)\n",
      "별별 이야기 2 - 여섯 빛깔 무지개 (2008, 한국)\n",
      "목포는 항구다 (2004, 한국)\n",
      "실미도 (2003, 한국)\n",
      "웃찾사 (한국)\n",
      "레볼루션 (한국)\n",
      "원 나잇 스탠드 (2010, 한국)\n",
      "전설의 고향 1997 (한국)\n",
      "우린 액션배우다 (2008, 한국)\n",
      "반드시 크게 들을 것 (2010, 한국)\n",
      "누구에게나 찬란한 (2014, 한국)\n",
      "이리 (2008, 한국)\n",
      "아 유 레디? (2002, 한국)\n",
      "마이너클럽 (한국)\n",
      "코미디에 빠지다 (2012, 한국)\n",
      "신혼여행 (2000, 한국)\n",
      "JSA 남북공동초등학교 (한국)\n",
      "봉자 (2000, 한국)\n",
      "작은 연못 (2010, 한국)\n",
      "자명고 (2009, 한국)\n",
      "토지 (2004, 한국)\n",
      "주몽 (2006, 한국)\n",
      "서울역 (2016, 한국)\n",
      "코미디쇼 웃으면 복이 와요 (한국)\n",
      "진짜 사나이 (1996, 한국)\n",
      "섹스 볼란티어 (2010, 한국)\n",
      "얼짱시대_시즌6 (한국)\n",
      "자카르타 (2000, 한국)\n",
      "이카루스 (한국)\n",
      "쌀 (한국)\n",
      "똥례... 하면 죽는다 (2015, 한국)\n",
      "모범생 (한국)\n",
      "할머니의 먼 집 (2016, 한국)\n",
      "다방의 푸른 꿈 (2017, 한국)\n",
      "바세코의 아이들 (2014, 한국)\n",
      "전설의 고향 1996 (한국)\n",
      "개그야 (한국)\n",
      "유관순 (한국)\n",
      "휘파람 공주 (2002, 한국)\n",
      "학교종을 울려라 (한국)\n",
      "레디액션 청춘 (2014, 한국)\n",
      "제5의 사나이 (1991, 한국)\n",
      "부활의 노래 (1991, 한국)\n",
      "이웃집 좀비 (2010, 한국)\n",
      "어허 어이 어이가리 (한국)\n",
      "바리바리 짱 (2005, 한국)\n",
      "흔들리는 물결 (2016, 한국)\n",
      "용병 이반 (1997, 한국)\n",
      "인천상륙작전 (2016, 한국)\n",
      "랏슈 (1989, 한국)\n",
      "량강도 아이들 (2011, 한국)\n",
      "나의선택 - 잊혀진 가방 그 못다한 이야기 (2010, 한국)\n",
      "팔도 사나이 91 (1991, 한국)\n",
      "연평해전 (2015, 한국)\n",
      "갈갈이 패밀리와 드라큐라 (2003, 한국)\n",
      "워낭소리 (2009, 한국)\n",
      "러브 (1999, 한국)\n",
      "고해 (2001, 한국)\n",
      "로드 무비 (2002, 한국)\n",
      "코미디빅리그 (2012, 한국)\n",
      "바람부는 날이면 압구정동에 가야 한다 (1993, 한국)\n",
      "궁S (한국)\n",
      "용의 눈물 (1996, 한국)\n",
      "GP506 (2008, 한국)\n",
      "몽중인 (2002, 한국)\n",
      "마법천자문 - 대마왕의 부활을 막아라 (2010, 한국)\n",
      "사의 찬미 (1991, 한국)\n",
      "집으로... (2002, 한국)\n",
      "아침이 오면 그대 이름으로 (1993, 한국)\n",
      "제자, 옥한흠 (2014, 한국)\n",
      "코미디 하우스 (한국)\n",
      "내 안에 우는 바람 (1997, 한국)\n",
      "서울이 보이냐? (2008, 한국)\n",
      "시발, 놈: 인류의 시작 (2016, 한국)\n",
      "수 (2007, 한국)\n",
      "눈물 (2001, 한국)\n",
      "천상천하 사대천왕 (한국)\n",
      "재앙의 시작 (한국)\n",
      "행복하시네요? (한국)\n",
      "월희 (한국)\n",
      "늑대의 유혹 (2004, 한국)\n",
      "전설의 고향 - 2009년 시리즈 (한국)\n",
      "누가 나를 미치게 하는가! (1995, 한국)\n",
      "청춘 펀치 (한국)\n",
      "섬마을 선생 (한국)\n",
      "불의 태양 (1994, 한국)\n",
      "화창한 그날들 (2014, 한국)\n",
      "내 사랑 짱구 (1985, 한국)\n",
      "미션: 톱스타를 훔쳐라 (2015, 한국)\n"
     ]
    }
   ],
   "source": [
    "# top rank movie\n",
    "# filtering Korean movie\n",
    "korean_movies = {movie:weight for movie, weight in movie_rank.items() if '한국)' in idx2movie(movie.split()[1])}\n",
    "\n",
    "# movies starring many famous actors\n",
    "for movie, _ in sorted(korean_movies.items(), key=lambda x:-x[1])[:100]:\n",
    "    movie_idx = movie.split()[1]\n",
    "    print(idx2movie(movie_idx))"
   ]
  },
  {
   "cell_type": "code",
   "execution_count": 26,
   "metadata": {},
   "outputs": [
    {
     "name": "stdout",
     "output_type": "stream",
     "text": [
      "Mel Blanc 김지미 최무룡 신영균 강신성일 윤정희 박노식 문희 문정숙 김진규 장동휘 남정임 김승호 엄앵란 남궁원 최은희 최지희 김혜정 고은아 오영일 도금봉 허장강 김희갑 조미령 黃貞順 이대엽 김동원 황해 태현실 김석훈 이민자 남진 Choi Nam-Hyun 이예춘 전계현 방성자 구봉서 주증녀 강문 김희라 박암 Arthur Q. Bryan 한은진 Winston Hibler 주연 김정훈 이경희 안인숙 Barbara Hammer 김지수 독고성 이수련 백영민 서영춘 정애란 곽규석 박종화 이민 June Foray 윤인자 김성옥 이순재 윤일봉 최난경 오지명 김창숙 윤소라 강미애 김희준 박지영 양훈 신일룡 신영일 Stan Freberg 하명중 김혜경 전영선 이빈화 전현무 주선태 장혁 김운하 나훈아 방수일 홍세미 한성 김석강 남미리 최인숙 Daws Butler 양미희 David Attenborough 양석천 손미희자 노경희 김의향 남춘역 오유경 박병호 최삼 "
     ]
    }
   ],
   "source": [
    "# top actor\n",
    "for actor, _ in sorted(actor_rank.items(), key=lambda x:-x[1])[:100]:\n",
    "    actor_idx = actor.split()[1]\n",
    "    print(idx2actor(actor_idx), end=' ')"
   ]
  },
  {
   "cell_type": "markdown",
   "metadata": {},
   "source": [
    "유명한 배우나 유명한 영화가 아닌, 여러 영화에 자주 출연한 배우들의 랭킹이 높고, 그런 배우들이 많이 출연한 영화들이 랭킹이 높음. 그렇기 때문에 80 ~ 90 년대의 중국영화 배우나 한국영화 배우들이 높은 ranking 을 보입니다. 주로 한국영화는 80 ~ 90 년대에 몇몇 배우들에 의하여 다작이 이뤄졌기 때문입니다. 대표적으로 이순재, 신영일 등이 있으며, 이순재 선생님이 출연한 작품은 네이버 영화 데이터베이스 기준 216 편입니다. \n",
    "\n",
    "bias 를 설정하여 personalized PageRank 로 이용해야 유명한 영화나 ticket power 가 높은 배우를 찾을 수 있습니다. "
   ]
  },
  {
   "cell_type": "code",
   "execution_count": null,
   "metadata": {
    "collapsed": true
   },
   "outputs": [],
   "source": []
  }
 ],
 "metadata": {
  "kernelspec": {
   "display_name": "Python 3",
   "language": "python",
   "name": "python3"
  },
  "language_info": {
   "codemirror_mode": {
    "name": "ipython",
    "version": 3
   },
   "file_extension": ".py",
   "mimetype": "text/x-python",
   "name": "python",
   "nbconvert_exporter": "python",
   "pygments_lexer": "ipython3",
   "version": "3.6.2"
  }
 },
 "nbformat": 4,
 "nbformat_minor": 2
}
